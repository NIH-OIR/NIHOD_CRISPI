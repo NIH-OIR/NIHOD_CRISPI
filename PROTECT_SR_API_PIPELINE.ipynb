{
 "cells": [
  {
   "cell_type": "code",
   "execution_count": 1,
   "id": "25752ee6-72a1-4c4d-904d-2eac3600e8c9",
   "metadata": {},
   "outputs": [],
   "source": [
    "import requests\n",
    "import pandas as pd\n",
    "import numpy as np\n",
    "import json\n",
    "import sys\n",
    "\n",
    "requests.packages.urllib3.disable_warnings()"
   ]
  },
  {
   "cell_type": "code",
   "execution_count": 2,
   "id": "a7175924-2ddc-4389-8ef8-a2194eef3740",
   "metadata": {},
   "outputs": [],
   "source": [
    "api_multi = 'https://protect-training.cc.nih.gov/TRAINING-IRB/sd/PublicCustomLayouts/PSLib/WebApi/multiResult?interfaceID=MultiSRCInformation'\n",
    "api_multi_filter = \"https://protect-training.cc.nih.gov/TRAINING-IRB/sd/PublicCustomLayouts/PSLib/WebApi/multiResult?interfaceID=MultiSRCInformation&$filter=parentStudyID eq '20M0082'\""
   ]
  },
  {
   "cell_type": "code",
   "execution_count": 3,
   "id": "31bdfabd-4e5f-447a-8092-3cd771fb95ed",
   "metadata": {},
   "outputs": [],
   "source": [
    "session = requests.Session()\n",
    "session.auth = (u<'ID'>, <'PWD'>)\n",
    "session.verify = False"
   ]
  },
  {
   "cell_type": "code",
   "execution_count": 4,
   "id": "261c1be7-c1d3-4070-aeb1-c102f18ac314",
   "metadata": {},
   "outputs": [],
   "source": [
    "response = session.get(api_multi)"
   ]
  },
  {
   "cell_type": "code",
   "execution_count": null,
   "id": "2cf226dc-d9a2-43a3-9265-ab6d8752a6f0",
   "metadata": {},
   "outputs": [],
   "source": []
  },
  {
   "cell_type": "code",
   "execution_count": 6,
   "id": "efbaee8a-447c-492e-9f6d-70012b2c622b",
   "metadata": {},
   "outputs": [],
   "source": [
    "def json_flatten(json_dict):\n",
    "\n",
    "    def inner_flatten(x, name=''):\n",
    "        single_dict = {}\n",
    "        if isinstance(x, dict):\n",
    "            flattened_dict = {}\n",
    "            for key,value in x.items():\n",
    "                #recursively calling on deeper layers of the json\n",
    "                flattened_x = inner_flatten(value, name + key + '_')\n",
    "                flattened_dict.update(flattened_x)\n",
    "            single_dict.update(flattened_dict)\n",
    "                    \n",
    "        elif isinstance(x, list):\n",
    "            flattened_dict = {}\n",
    "            flattened_x = []\n",
    "            for obj in x:\n",
    "                flattened_obj = inner_flatten(obj, name)\n",
    "                flattened_x.append(flattened_obj)\n",
    "\n",
    "            #will always be true due to the nature of the inner function return type\n",
    "            if all(isinstance(y,dict) for y in flattened_x):\n",
    "                for i, d in enumerate(flattened_x):\n",
    "                    for k, v in d.items():\n",
    "                        flattened_dict[f'{k}_{i+1}'] = v\n",
    "                    \n",
    "            single_dict.update(flattened_dict)\n",
    "            \n",
    "        else:\n",
    "            single_dict[name[:-1]] = x\n",
    "            \n",
    "        return single_dict\n",
    "\n",
    "    return inner_flatten(json_dict)"
   ]
  },
  {
   "cell_type": "code",
   "execution_count": null,
   "id": "efa77384-cc28-49c0-91a8-8f550a382674",
   "metadata": {},
   "outputs": [],
   "source": []
  },
  {
   "cell_type": "code",
   "execution_count": 5,
   "id": "c3a8a2a1-2eff-4cad-9873-fd15d1d193a0",
   "metadata": {},
   "outputs": [],
   "source": [
    "IDs = set()\n",
    "parentIDs = set()\n",
    "multi_json = response.json()"
   ]
  },
  {
   "cell_type": "code",
   "execution_count": 7,
   "id": "12672980-7af1-4747-a13c-801302856aab",
   "metadata": {},
   "outputs": [],
   "source": [
    "for submission in multi_json:\n",
    "    parentStudyID = submission['parentStudyID']\n",
    "    srcID = submission['ID']\n",
    "\n",
    "    parentIDs.add(parentStudyID)\n",
    "    IDs.add(srcID)    "
   ]
  },
  {
   "cell_type": "code",
   "execution_count": 8,
   "id": "40e25ef9-0222-412b-875d-9cfa17c7b7ae",
   "metadata": {},
   "outputs": [],
   "source": [
    "for json in multi_json:\n",
    "    parentStudyID = json['parentStudyID']\n",
    "    srcID = json['ID']\n",
    "\n",
    "    parentIDs.add(parentStudyID)\n",
    "    IDs.add(srcID)"
   ]
  },
  {
   "cell_type": "code",
   "execution_count": 9,
   "id": "89f99d58-b52e-49ee-a691-484549b457e3",
   "metadata": {},
   "outputs": [],
   "source": [
    "#loop through submissionIDs and perform single RS api call on them. insert json into singleRSC table\n",
    "SRCSingleAPI = \"https://protect-training.cc.nih.gov/TRAINING-IRB/sd/PublicCustomLayouts/PSLib/WebApi/singleResult?interfaceID=ScientificReviewSubmission&resourceID=\"\n",
    "\n",
    "singleSRC_data = list()\n",
    "for id in IDs:\n",
    "    response = session.get(SRCSingleAPI + '\\'' + id + '\\'')\n",
    "    singleSRC_data.append(json_flatten(response.json()['data']))\n",
    "\n",
    "singleSRC_table = pd.DataFrame(singleSRC_data)"
   ]
  },
  {
   "cell_type": "code",
   "execution_count": 10,
   "id": "611413c9-7557-4cb0-83d0-ddb427cc870c",
   "metadata": {},
   "outputs": [],
   "source": [
    "#loop through parentIDs and perform multi RS api call on them. insert json into multiRSC table\n",
    "SRCMultiAPI = \"https://protect-training.cc.nih.gov/TRAINING-IRB/sd/PublicCustomLayouts/PSLib/WebApi/multiResult?interfaceID=MultiSRCInformation&$filter=parentStudyID eq \"\n",
    "\n",
    "multiSRC_data = list()\n",
    "for id in parentIDs:\n",
    "    response = session.get(SRCMultiAPI + '\\'' + id + '\\'')\n",
    "    multiSRC_data = multiSRC_data + response.json()\n",
    "\n",
    "multiSRC_table = pd.DataFrame(multiSRC_data)"
   ]
  },
  {
   "cell_type": "code",
   "execution_count": null,
   "id": "c5991f3c-d19f-45e6-b1b2-8e7e77f1d9f8",
   "metadata": {},
   "outputs": [],
   "source": [
    "#Pushing data to postgresql"
   ]
  },
  {
   "cell_type": "code",
   "execution_count": 18,
   "id": "c8547819-1556-4aff-99a6-b62c14d748cb",
   "metadata": {},
   "outputs": [],
   "source": [
    "import psycopg2\n",
    "from sqlalchemy import create_engine"
   ]
  },
  {
   "cell_type": "code",
   "execution_count": 19,
   "id": "23938bbb-fbaa-48d5-8170-3743f6aadcf8",
   "metadata": {},
   "outputs": [],
   "source": [
    "db = create_engine('postgresql://<ID>:<PWD>@10.157.90.23:5432/PROTECT')\n",
    "conn = db.connect()"
   ]
  },
  {
   "cell_type": "code",
   "execution_count": 47,
   "id": "c9a4a630-bf7b-4b4f-940d-9acc634bc898",
   "metadata": {},
   "outputs": [
    {
     "data": {
      "text/plain": [
       "420"
      ]
     },
     "execution_count": 47,
     "metadata": {},
     "output_type": "execute_result"
    }
   ],
   "source": [
    "multiSRC_table.to_sql('ScientificReviewStudyDetails', con=conn, if_exists='replace', index=False)"
   ]
  },
  {
   "cell_type": "code",
   "execution_count": 48,
   "id": "3f469d23-b02a-44cf-bf0c-a5ea6ef74cd6",
   "metadata": {},
   "outputs": [
    {
     "data": {
      "text/plain": [
       "34"
      ]
     },
     "execution_count": 48,
     "metadata": {},
     "output_type": "execute_result"
    }
   ],
   "source": [
    "singleSRC_table.to_sql('ScientificReviewSubmissionDetails', con=conn, if_exists='replace', index=False)"
   ]
  }
 ],
 "metadata": {
  "kernelspec": {
   "display_name": "Python 3 (ipykernel)",
   "language": "python",
   "name": "python3"
  },
  "language_info": {
   "codemirror_mode": {
    "name": "ipython",
    "version": 3
   },
   "file_extension": ".py",
   "mimetype": "text/x-python",
   "name": "python",
   "nbconvert_exporter": "python",
   "pygments_lexer": "ipython3",
   "version": "3.12.0"
  }
 },
 "nbformat": 4,
 "nbformat_minor": 5
}
