{
 "cells": [
  {
   "cell_type": "code",
   "execution_count": null,
   "id": "4c5f53c8-60a3-4d6d-9f9d-b7e19a248f19",
   "metadata": {},
   "outputs": [],
   "source": [
    "#from IRBSubmission get all protocol IDs\n",
    "#use multiRSCInformation api call with filter=parentStudyID eq ID to get submissions related to protocol\n",
    "#use RadiationSafetySubmission api call with each RSC submission ID to get related information\n",
    "\n",
    "#Table 1 <- information from each multiRSCInformation api call with parent protocol id as main key\n",
    "#Table 2 <- information from each single radiationSafetySubmission api call with parent protocol id as main key"
   ]
  },
  {
   "cell_type": "code",
   "execution_count": null,
   "id": "00f1d30a-8c22-4d1b-98b2-a797aaa1bbe9",
   "metadata": {},
   "outputs": [],
   "source": [
    "import requests\n",
    "import pandas as pd\n",
    "import numpy as np\n",
    "import json\n",
    "import sys\n",
    "\n",
    "requests.packages.urllib3.disable_warnings()"
   ]
  },
  {
   "cell_type": "code",
   "execution_count": null,
   "id": "a8466d9c-4729-477c-8eb9-2cf8e986d1df",
   "metadata": {},
   "outputs": [],
   "source": [
    "api_multi = 'https://protect-training.cc.nih.gov/TRAINING-IRB/sd/PublicCustomLayouts/PSLib/WebApi/multiResult?interfaceID=MultiRSCInformation'"
   ]
  },
  {
   "cell_type": "code",
   "execution_count": null,
   "id": "9dd1a21c-9658-4c64-8358-16fcc3a06d42",
   "metadata": {},
   "outputs": [],
   "source": [
    "session = requests.Session()\n",
    "session.auth = (u<'ID'>, <'PWD'>)\n",
    "session.verify = False"
   ]
  },
  {
   "cell_type": "code",
   "execution_count": null,
   "id": "ba56e6d2-9fce-4ac6-9f09-7dc123f74a51",
   "metadata": {},
   "outputs": [],
   "source": [
    "response = session.get(api_multi)"
   ]
  },
  {
   "cell_type": "code",
   "execution_count": null,
   "id": "14216249-f1dd-47e5-97c6-c5219928147b",
   "metadata": {},
   "outputs": [],
   "source": []
  },
  {
   "cell_type": "code",
   "execution_count": null,
   "id": "7aa38c24-69d8-4041-8d92-2ea75ab2ccfb",
   "metadata": {},
   "outputs": [],
   "source": [
    "def json_flatten(json_dict):\n",
    "\n",
    "    def inner_flatten(x, name=''):\n",
    "        single_dict = {}\n",
    "        if isinstance(x, dict):\n",
    "            flattened_dict = {}\n",
    "            for key,value in x.items():\n",
    "                #recursively calling on deeper layers of the json\n",
    "                #if 'safetySubmissionCustomExtension' not in key:\n",
    "                #    flattened_x = inner_flatten(value, name + key + '_')\n",
    "                #else:\n",
    "                #    flattened_x = inner_flatten(value, name + key[32:] + '_')\n",
    "                flattened_x = inner_flatten(value, key)\n",
    "                flattened_dict.update(flattened_x)\n",
    "            single_dict.update(flattened_dict)\n",
    "                    \n",
    "        elif isinstance(x, list):\n",
    "            flattened_dict = {}\n",
    "            flattened_x = []\n",
    "            for obj in x:\n",
    "                flattened_obj = inner_flatten(obj, name)\n",
    "                flattened_x.append(flattened_obj)\n",
    "\n",
    "            #will always be true due to the nature of the inner function return type\n",
    "            if all(isinstance(y,dict) for y in flattened_x):\n",
    "                for i, d in enumerate(flattened_x):\n",
    "                    for k, v in d.items():\n",
    "                        flattened_dict[f'{k}_{i+1}'] = v\n",
    "                    \n",
    "            single_dict.update(flattened_dict)\n",
    "            \n",
    "        else:\n",
    "            #single_dict[name[:-1]] = x\n",
    "            single_dict[name] = x\n",
    "            \n",
    "        return single_dict\n",
    "\n",
    "    return inner_flatten(json_dict)"
   ]
  },
  {
   "cell_type": "code",
   "execution_count": null,
   "id": "0555898e-b23b-406c-9046-09c555c5ffb4",
   "metadata": {},
   "outputs": [],
   "source": []
  },
  {
   "cell_type": "code",
   "execution_count": null,
   "id": "f816ddd6-776d-4fc1-ab94-f6b2c26ec62e",
   "metadata": {},
   "outputs": [],
   "source": [
    "IDs = set()\n",
    "parentIDs = set()\n",
    "multi_json = response.json()"
   ]
  },
  {
   "cell_type": "code",
   "execution_count": null,
   "id": "88caa5e9-07fc-4059-8923-f2f17ebf0b69",
   "metadata": {},
   "outputs": [],
   "source": [
    "for json in multi_json:\n",
    "    parentStudyID = json['parentStudyID']\n",
    "    rscID = json['ID']\n",
    "\n",
    "    parentIDs.add(parentStudyID)\n",
    "    IDs.add(rscID)"
   ]
  },
  {
   "cell_type": "code",
   "execution_count": null,
   "id": "20324ae0-a9ad-4501-930a-102ada863f6b",
   "metadata": {},
   "outputs": [],
   "source": [
    "#loop through submissionIDs and perform single RS api call on them. insert json into singleRSC table\n",
    "RSCSingleAPI = \"https://protect-training.cc.nih.gov/TRAINING-IRB/sd/PublicCustomLayouts/PSLib/WebApi/singleResult?interfaceID=RadiationSafetySubmission&resourceID=\"\n",
    "\n",
    "singleRSC_data = list()\n",
    "for id in IDs:\n",
    "    response = session.get(RSCSingleAPI + '\\'' + id + '\\'')\n",
    "    singleRSC_data.append(json_flatten(response.json()['data']))\n",
    "    \n",
    "singleRSC_table = pd.DataFrame(singleRSC_data)"
   ]
  },
  {
   "cell_type": "code",
   "execution_count": null,
   "id": "571f8778-bc84-49a3-ac09-c941c018b755",
   "metadata": {},
   "outputs": [],
   "source": [
    "#loop through parentIDs and perform multi RS api call on them. insert json into multiRSC table\n",
    "RSCMultiAPI = \"https://protect-training.cc.nih.gov/TRAINING-IRB/sd/PublicCustomLayouts/PSLib/WebApi/multiResult?interfaceID=MultiRSCInformation&$filter=parentStudyID eq \"\n",
    "\n",
    "multiRSC_data = list()\n",
    "for id in parentIDs:\n",
    "    response = session.get(RSCMultiAPI + '\\'' + id + '\\'')\n",
    "    multiRSC_data = multiRSC_data + response.json()\n",
    "\n",
    "multiRSC_table = pd.json_normalize(multiRSC_data)"
   ]
  },
  {
   "cell_type": "code",
   "execution_count": null,
   "id": "02c7a95f-cee2-4116-b803-e285748c0512",
   "metadata": {},
   "outputs": [],
   "source": []
  },
  {
   "cell_type": "code",
   "execution_count": 1,
   "id": "7849a4b5-b6a2-4bb4-a74d-d41c9bbdd7da",
   "metadata": {},
   "outputs": [],
   "source": [
    "import psycopg2\n",
    "from sqlalchemy import create_engine"
   ]
  },
  {
   "cell_type": "code",
   "execution_count": null,
   "id": "b1acbb56-0744-4398-9a1f-5bc0b5ad9120",
   "metadata": {},
   "outputs": [],
   "source": [
    "db = create_engine('postgresql://<ID>:<PWD>@10.157.90.23:5432/PROTECT')\n",
    "conn = db.connect()"
   ]
  },
  {
   "cell_type": "code",
   "execution_count": null,
   "id": "d658ad15-024f-4275-8bbe-3642a7d65d29",
   "metadata": {},
   "outputs": [],
   "source": [
    "multiRSC_table.to_sql('RadiationSafetyStudyDetails', con=conn, if_exists='replace', index=FALSE)"
   ]
  },
  {
   "cell_type": "code",
   "execution_count": null,
   "id": "4809bd07-b67e-4adf-8fa2-6fd8959f7f03",
   "metadata": {},
   "outputs": [],
   "source": [
    "singleRSC_table.to_sql('RadiationSafetySubmissionDetails', con=conn, if_exists='replace', index=False)"
   ]
  }
 ],
 "metadata": {
  "kernelspec": {
   "display_name": "Python 3 (ipykernel)",
   "language": "python",
   "name": "python3"
  },
  "language_info": {
   "codemirror_mode": {
    "name": "ipython",
    "version": 3
   },
   "file_extension": ".py",
   "mimetype": "text/x-python",
   "name": "python",
   "nbconvert_exporter": "python",
   "pygments_lexer": "ipython3",
   "version": "3.12.0"
  }
 },
 "nbformat": 4,
 "nbformat_minor": 5
}
