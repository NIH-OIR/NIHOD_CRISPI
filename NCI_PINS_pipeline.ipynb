{
 "cells": [
  {
   "cell_type": "code",
   "execution_count": 1,
   "metadata": {},
   "outputs": [],
   "source": [
    "import datetime\n",
    "import re\n",
    "import pandas as pd\n",
    "import requests\n",
    "import sqlalchemy\n",
    "from sqlalchemy import create_engine\n",
    "import psycopg2\n",
    "from pipelineFunctions import *\n",
    "from config import *\n",
    "from db_conn import *\n",
    "import urllib3\n",
    "urllib3.disable_warnings(urllib3.exceptions.InsecureRequestWarning)\n",
    "\n"
   ]
  },
  {
   "cell_type": "code",
   "execution_count": 2,
   "metadata": {},
   "outputs": [
    {
     "name": "stdout",
     "output_type": "stream",
     "text": [
      "NCI PINS Pipeline Start Time: 2025-03-25 12:04:41.792241\n",
      "pins_protocol_list_url: https://pins.ccr.cancer.gov/api/v2/external/pins/protocol/find/all\n",
      "PINS protocol list size: 2210\n",
      "NCI PINS Pipeline Completed at: 2025-03-25 12:05:42.474206\n"
     ]
    }
   ],
   "source": [
    "def authorize_api_call(session, conf_file):\n",
    "    username = conf_file['PINS_CONNECTION']['username']\n",
    "    psw = conf_file['PINS_CONNECTION']['password']\n",
    "    # print(\"username: \" + username +\" password: \" + psw)\n",
    "    session.auth = (username, psw)\n",
    "    return session\n",
    "\n",
    "def get_pins_protocol_list(session, conf_file):\n",
    "    session = authorize_api_call(session, conf_file)\n",
    "    pins_protocol_list_url = conf_file['PINS_PROD_API']['pins_protocol_list_url']\n",
    "    print(\"pins_protocol_list_url: \" + pins_protocol_list_url) \n",
    "    response = session.get(pins_protocol_list_url, verify=False)      \n",
    "\n",
    "    return response  \n",
    "\n",
    "def generate_nci_pins_tables(conf_file, conn):\n",
    "    session = requests.Session()\n",
    "\n",
    "    protocol_list_response = get_pins_protocol_list(session, conf_file)\n",
    "    if protocol_list_response.status_code != 200:\n",
    "        print (\"Error: \" + str(protocol_list_response.status_code))\n",
    "    else:\n",
    "        #total 2210\n",
    "        print (\"PINS protocol list size: \" + str(len(protocol_list_response.json())))\n",
    "\n",
    "    pins_data_fields_key = ['formattedProtocolNumber', 'shortTitle', 'active', 'piFullName', 'piEmail', 'piNedId', 'accrualCeiling', \n",
    "                            'sponsorNumber', 'sponsor', 'multiInstitutional', 'nihCoordinatingSite', 'externalIrbInvolved', 'externalIrbName',\n",
    "                            'protocolPhase', 'protocolStatus', 'protocolCategory', 'interventionalModel', 'masking', 'riskLevel']\n",
    "    protocol_details_list = list()\n",
    "    i = 0\n",
    "    pins_data_fields = dict.fromkeys(pins_data_fields_key, None)\n",
    "    for protocol_data in protocol_list_response.json():\n",
    "        # print(protocol_data['formattedProtocolNumber']) \n",
    "        # for key in pins_data_fields_key:\n",
    "        #     pins_data_fields[key] = protocol_data[key]\n",
    "        protocol_details_list.append(protocol_data)\n",
    "\n",
    "\n",
    "    pins_protocol_table = pd.json_normalize(protocol_details_list)[pins_data_fields_key]\n",
    "    pins_protocol_table.insert(0,'TimeStamp',pd.to_datetime('now').replace(microsecond=0))\n",
    "    pins_protocol_table.index += 1\n",
    "    pins_protocol_table.to_sql('pins_protocol_table', con=conn, if_exists='replace', index=True, index_label='id')\n",
    "\n",
    "if __name__ == '__main__': \n",
    "    conf_file = load_config_file()\n",
    "      \n",
    "    conn = get_db_connection(conf_file)\n",
    "\n",
    "    print (\"NCI PINS Pipeline Start Time: \" + str(datetime.datetime.now()))\n",
    "    generate_nci_pins_tables(conf_file, conn)\n",
    "\n",
    "    print('NCI PINS Pipeline Completed at: '+ str(datetime.datetime.now()))"
   ]
  }
 ],
 "metadata": {
  "kernelspec": {
   "display_name": "Python 3",
   "language": "python",
   "name": "python3"
  },
  "language_info": {
   "codemirror_mode": {
    "name": "ipython",
    "version": 3
   },
   "file_extension": ".py",
   "mimetype": "text/x-python",
   "name": "python",
   "nbconvert_exporter": "python",
   "pygments_lexer": "ipython3",
   "version": "3.8.5"
  }
 },
 "nbformat": 4,
 "nbformat_minor": 2
}
