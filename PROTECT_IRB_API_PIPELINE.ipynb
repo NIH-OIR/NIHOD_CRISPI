{
 "cells": [
  {
   "cell_type": "code",
   "execution_count": 1,
   "id": "6669228d-8540-4572-9ee8-c2ff72748364",
   "metadata": {},
   "outputs": [],
   "source": [
    "import pandas as pd\n",
    "import numpy as np\n",
    "import warnings\n",
    "import requests\n",
    "import json\n",
    "import sys\n",
    "import os\n",
    "\n",
    "import psycopg2\n",
    "from sqlalchemy import create_engine\n",
    "\n",
    "warnings.filterwarnings(\"ignore\") \n",
    "requests.packages.urllib3.disable_warnings()"
   ]
  },
  {
   "cell_type": "code",
   "execution_count": null,
   "id": "a9fb8963-83e7-48e9-9163-0bad082c4bd9",
   "metadata": {},
   "outputs": [],
   "source": [
    "session = requests.Session()\n",
    "session.auth = (u'<PWD'>, <'PWD'>)\n",
    "session.verify = False"
   ]
  },
  {
   "cell_type": "code",
   "execution_count": null,
   "id": "a0afd0b2-d04c-46d9-8926-526f2bffb68d",
   "metadata": {},
   "outputs": [],
   "source": [
    "main_api = 'https://protect-training.cc.nih.gov/TRAINING-IRB/sd/PublicCustomLayouts/PSLib/WebApi/multiResult?interfaceID=MultiIRBInformation'"
   ]
  },
  {
   "cell_type": "code",
   "execution_count": null,
   "id": "b99e562f-91d9-46dd-a43a-2f2068c7539c",
   "metadata": {},
   "outputs": [],
   "source": [
    "response = session.get(main_api)\n",
    "response"
   ]
  },
  {
   "cell_type": "code",
   "execution_count": null,
   "id": "c1793443-4567-4dca-88bc-9d2b4aeca289",
   "metadata": {},
   "outputs": [],
   "source": [
    "study_id_list = set()\n",
    "submission_list = []\n",
    "\n",
    "for j in response.json():\n",
    "    submission_list.append(j['ID'])\n",
    "    study_id_list.add(j['parentStudyID'])"
   ]
  },
  {
   "cell_type": "code",
   "execution_count": null,
   "id": "2ff4dad0-8cff-40fb-897d-a74ca8b35916",
   "metadata": {},
   "outputs": [],
   "source": [
    "len(study_id_list), len(submission_list) "
   ]
  },
  {
   "cell_type": "code",
   "execution_count": null,
   "id": "f62108d5-7c58-494b-af52-eb2b9cf3a09f",
   "metadata": {},
   "outputs": [],
   "source": [
    "study_summary_api = \"https://protect-training.cc.nih.gov/TRAINING-IRB/sd/PublicCustomLayouts/PSLib/WebApi/singleResult?interfaceID=BasicIRBInformation&resourceID=\"\n",
    "multi_record_api = \"https://protect-training.cc.nih.gov/TRAINING-IRB/sd/PublicCustomLayouts/PSLib/WebApi/multiResult?interfaceID=MultiIRBInformation&$filter=parentProjectID eq \"\n",
    "add_submission_api = \"https://protect-training.cc.nih.gov/TRAINING-IRB/sd/PublicCustomLayouts/PSLib/WebApi/singleResult?interfaceID=BasicIRBInformation&resourceID=\""
   ]
  },
  {
   "cell_type": "code",
   "execution_count": null,
   "id": "5d4e3e13-ff62-4802-9b93-f62fb8c095ea",
   "metadata": {},
   "outputs": [],
   "source": [
    "def json_flatten(json_dict):\n",
    " \n",
    "    def inner_flatten(x, name=''):\n",
    "        single_dict = {}\n",
    "        if isinstance(x, dict):\n",
    "            flattened_dict = {}\n",
    "            for key,value in x.items():\n",
    "                #recursively calling on deeper layers of the json\n",
    "                #if 'safetySubmissionCustomExtension' not in key:\n",
    "                #    flattened_x = inner_flatten(value, name + key + '_')\n",
    "                #else:\n",
    "                #    flattened_x = inner_flatten(value, name + key[32:] + '_')\n",
    "                flattened_x = inner_flatten(value, key)\n",
    "                flattened_dict.update(flattened_x)\n",
    "            single_dict.update(flattened_dict)\n",
    "        elif isinstance(x, list):\n",
    "            flattened_dict = {}\n",
    "            flattened_x = []\n",
    "            for obj in x:\n",
    "                flattened_obj = inner_flatten(obj, name)\n",
    "                flattened_x.append(flattened_obj)\n",
    " \n",
    "            #will always be true due to the nature of the inner function return type\n",
    "            if all(isinstance(y,dict) for y in flattened_x):\n",
    "                for i, d in enumerate(flattened_x):\n",
    "                    for k, v in d.items():\n",
    "                        flattened_dict[f'{k}_{i+1}'] = v\n",
    "            single_dict.update(flattened_dict)\n",
    "        else:\n",
    "            #single_dict[name[:-1]] = x\n",
    "            single_dict[name] = x\n",
    "        return single_dict\n",
    " \n",
    "    return inner_flatten(json_dict)"
   ]
  },
  {
   "cell_type": "code",
   "execution_count": null,
   "id": "083005df-ead7-42d0-92b8-31c7044f5db5",
   "metadata": {},
   "outputs": [],
   "source": [
    "def json_structure(f):\n",
    "    main_table = pd.DataFrame()\n",
    "    if isinstance(f, list):\n",
    "        for protocol in f:\n",
    "            main_table = pd.concat([main_table, pd.json_normalize(json_flatten(protocol))])\n",
    "    elif isinstance(f, dict):\n",
    "        main_table = pd.concat([main_table, pd.json_normalize(json_flatten(f[list(f.keys())[0]]))])\n",
    "    return main_table"
   ]
  },
  {
   "cell_type": "code",
   "execution_count": null,
   "id": "2b9b9c03-e6b6-4e85-aabf-b019879bf354",
   "metadata": {},
   "outputs": [],
   "source": [
    "all_submission_df = pd.DataFrame()\n",
    "study_details_df = pd.DataFrame()\n",
    "\n",
    "for i in list(study_id_list)[:10]:\n",
    "    all_submission_api = multi_record_api+f\"'{i}'\"\n",
    "    study_det_api = study_summary_api+i\n",
    "    response1 = session.get(all_submission_api)\n",
    "    temp_df1 = json_structure(response1.json())\n",
    "    all_submission_df = pd.concat([all_submission_df,temp_df1])\n",
    "    response2 = session.get(study_det_api)\n",
    "    temp_df2 = json_structure(response2.json())\n",
    "    study_details_df = pd.concat([study_details_df,temp_df2])"
   ]
  },
  {
   "cell_type": "code",
   "execution_count": null,
   "id": "192e9f34-3149-434a-b78c-e4bff7b9615c",
   "metadata": {},
   "outputs": [],
   "source": [
    "submission_details_df = pd.DataFrame()\n",
    "    \n",
    "for i in submission_list[:2]: \n",
    "    submission_det_api = add_submission_api+i\n",
    "    response3 = session.get(submission_det_api)\n",
    "    temp_df = json_structure(response3.json())\n",
    "    submission_details_df = pd.concat([submission_details_df,temp_df])"
   ]
  },
  {
   "cell_type": "code",
   "execution_count": null,
   "id": "939d680f-d151-4e6d-a266-29eca033df26",
   "metadata": {},
   "outputs": [],
   "source": [
    "study_key = study_details_df[['parentStudyID']]"
   ]
  },
  {
   "cell_type": "code",
   "execution_count": null,
   "id": "f4917da6-a4fc-473a-93c9-ec0b203443c3",
   "metadata": {},
   "outputs": [],
   "source": [
    "protect_irb_study_details = study_details_df[['parentStudyID','piUserId','piFirstName','piMiddleName','piLastName','piEarnedDegrees','piNIHADName','piSubOrgStatus','piOrgStatus','piEmployeeId','piCompanyID','piEmployerName',\n",
    " 'piEmployerAbbreviation','piAccountDisabled','piIsActive','piDepartmentID','piDepartmentName','piDepartmentAbbreviation','piEmail','piPhone','leadPiUserId',\n",
    " 'leadPiFirstName','leadPiMiddleName','leadPiLastName','leadPiEarnedDegrees','leadPiNIHADName','leadPiSubOrgStatus','leadPiOrgStatus','leadPiEmployerID','leadPiCompanyID',\n",
    " 'leadPiEmployerName','leadPiEmployerAbbreviation','leadPiAccountDisabled','leadPiIsActive','leadPiDepartmentID','leadPiDepartmentName','leadPiDepartmentAbbreviation',\n",
    " 'leadPiEmail','leadPiPhone','pcUserId','pcFirstName','pcMiddleName','pcLastName','pcEarnedDegrees','pcNIHADName','pcSubOrgStatus','pcOrgStatus','pcEmployerID',\n",
    " 'pcCompanyID','pcEmployerName','pcEmployerAbbreviation','pcAccountDisabled','pcIsActive','pcDepartmentID','pcDepartmentName','pcDepartmentAbbreviation','pcEmail',\n",
    " 'pcPhone','reviewLevel', 'submittedDate','studyType']]"
   ]
  },
  {
   "cell_type": "code",
   "execution_count": null,
   "id": "337fa8e2-d888-4356-819c-b308b4d05734",
   "metadata": {},
   "outputs": [],
   "source": [
    "db = create_engine('postgresql://<ID>:<PWD>@10.157.90.23:5432/PROTECT')\n",
    "conn = db.connect()\n",
    "protect_irb_study_details.to_sql('PROTECT_IRB_STUDY_DETAILS', con=conn, if_exists='replace', index='false')"
   ]
  },
  {
   "cell_type": "code",
   "execution_count": null,
   "id": "147b39a6-2e62-4fd6-878d-adbd5747109c",
   "metadata": {},
   "outputs": [],
   "source": [
    "protect_irb_study_submission_details = submission_details_df[['parentStudyID','piUserId','piFirstName','piMiddleName','piLastName','piEarnedDegrees','piNIHADName',\n",
    " 'piSubOrgStatus','piOrgStatus','piEmployeeId','piCompanyID','piEmployerName','piEmployerAbbreviation','piAccountDisabled',\n",
    " 'piIsActive','piDepartmentID','piDepartmentName','piDepartmentAbbreviation','piEmail','piPhone','leadPiUserId','leadPiFirstName','leadPiMiddleName','leadPiLastName',\n",
    " 'leadPiEarnedDegrees','leadPiNIHADName','leadPiSubOrgStatus','leadPiOrgStatus','leadPiEmployerID','leadPiCompanyID','leadPiEmployerName',\n",
    " 'leadPiEmployerAbbreviation', 'leadPiAccountDisabled','leadPiIsActive','leadPiDepartmentID','leadPiDepartmentName','leadPiDepartmentAbbreviation','leadPiEmail',\n",
    " 'leadPiPhone']]"
   ]
  },
  {
   "cell_type": "code",
   "execution_count": null,
   "id": "bbd5fa12-79d4-46c9-a7b4-0d9ddefbb523",
   "metadata": {},
   "outputs": [],
   "source": [
    "db = create_engine('postgresql://<ID>:<PWD>@10.157.90.23:5432/PROTECT')\n",
    "conn = db.connect()\n",
    "protect_irb_study_submission_details.to_sql('PROTECT_IRB_STUDY_SUBMISSION_DETAILS', con=conn, if_exists='replace', index='false')"
   ]
  },
  {
   "cell_type": "code",
   "execution_count": null,
   "id": "ba6940b6-72c1-4cfc-87e1-652d6eff720d",
   "metadata": {},
   "outputs": [],
   "source": [
    "db = create_engine('postgresql://<ID>:<PWD>@10.157.90.23:5432/PROTECT')\n",
    "conn = db.connect()\n",
    "all_submission_df.to_sql('PROTECT_IRB_STUDY_SUBMISSION_LIST', con=conn, if_exists='replace', index='false')"
   ]
  },
  {
   "cell_type": "code",
   "execution_count": null,
   "id": "c7fdc1a4-d010-4c94-b0bf-00bf5bd2d945",
   "metadata": {},
   "outputs": [],
   "source": []
  },
  {
   "cell_type": "code",
   "execution_count": null,
   "id": "26c5a767-6ef2-4ed6-b50e-f5f3ac34432e",
   "metadata": {},
   "outputs": [],
   "source": []
  },
  {
   "cell_type": "code",
   "execution_count": null,
   "id": "18baf147-2bf3-4ce8-9184-f0fa1b9941e9",
   "metadata": {},
   "outputs": [],
   "source": []
  },
  {
   "cell_type": "code",
   "execution_count": null,
   "id": "2f22c9c4-3222-467c-9d5b-5bba74193e1c",
   "metadata": {},
   "outputs": [],
   "source": []
  },
  {
   "cell_type": "code",
   "execution_count": null,
   "id": "5f34da24-1c25-460e-8c6c-1dcb435c2955",
   "metadata": {},
   "outputs": [],
   "source": []
  },
  {
   "cell_type": "code",
   "execution_count": null,
   "id": "028b64b9-bf4a-481c-8659-e49db206bccd",
   "metadata": {},
   "outputs": [],
   "source": []
  },
  {
   "cell_type": "code",
   "execution_count": null,
   "id": "5b54f25b-6895-410d-9448-2e60cf977233",
   "metadata": {},
   "outputs": [],
   "source": []
  },
  {
   "cell_type": "code",
   "execution_count": null,
   "id": "d55a4ce7-2f08-4e9a-9259-e4079db33bd5",
   "metadata": {},
   "outputs": [],
   "source": []
  },
  {
   "cell_type": "code",
   "execution_count": null,
   "id": "8b68d68c-8d09-465d-9474-c562227059f9",
   "metadata": {},
   "outputs": [],
   "source": []
  },
  {
   "cell_type": "code",
   "execution_count": null,
   "id": "0ff8cba0-bf7f-4b2c-8059-07310b3a81b1",
   "metadata": {},
   "outputs": [],
   "source": []
  },
  {
   "cell_type": "code",
   "execution_count": null,
   "id": "81c26990-d48e-4180-bd8e-9553745a79be",
   "metadata": {},
   "outputs": [],
   "source": []
  },
  {
   "cell_type": "code",
   "execution_count": null,
   "id": "a4cceedd-aad0-4b52-8b49-c55f352aa3a6",
   "metadata": {},
   "outputs": [],
   "source": []
  },
  {
   "cell_type": "code",
   "execution_count": null,
   "id": "e7e92576-9983-48ee-887a-93d0506bf2d2",
   "metadata": {},
   "outputs": [],
   "source": []
  },
  {
   "cell_type": "code",
   "execution_count": null,
   "id": "f1f9c1cc-d1ec-46d6-903f-8e991cefb61b",
   "metadata": {},
   "outputs": [],
   "source": []
  },
  {
   "cell_type": "code",
   "execution_count": null,
   "id": "64cdd443-63bd-4c41-b229-ef7bce9eaad1",
   "metadata": {},
   "outputs": [],
   "source": []
  },
  {
   "cell_type": "code",
   "execution_count": null,
   "id": "a38d34f6-6926-4738-ba8b-56cadffed537",
   "metadata": {},
   "outputs": [],
   "source": []
  },
  {
   "cell_type": "code",
   "execution_count": null,
   "id": "2ae006cc-9508-450d-b841-46eb975100bb",
   "metadata": {},
   "outputs": [],
   "source": []
  },
  {
   "cell_type": "code",
   "execution_count": null,
   "id": "b3693b15-312d-4d78-b7ed-fa126052c44e",
   "metadata": {},
   "outputs": [],
   "source": []
  },
  {
   "cell_type": "code",
   "execution_count": null,
   "id": "e02f31b7-8c3a-4bab-85e1-7cff347cf4a4",
   "metadata": {},
   "outputs": [],
   "source": []
  },
  {
   "cell_type": "code",
   "execution_count": null,
   "id": "cafc2699-d293-43eb-8479-3b3647f9f8dc",
   "metadata": {},
   "outputs": [],
   "source": []
  },
  {
   "cell_type": "code",
   "execution_count": null,
   "id": "910cda9d-455a-41bf-85df-645d71e84b6e",
   "metadata": {},
   "outputs": [],
   "source": []
  },
  {
   "cell_type": "code",
   "execution_count": null,
   "id": "23a8e52a-03b8-4f1a-b006-07d47fc3f5d7",
   "metadata": {},
   "outputs": [],
   "source": []
  },
  {
   "cell_type": "code",
   "execution_count": null,
   "id": "8a8ea23e-4f17-4531-b234-d69b58860465",
   "metadata": {},
   "outputs": [],
   "source": []
  },
  {
   "cell_type": "code",
   "execution_count": null,
   "id": "e30e1367-660d-497c-9688-87865b9f1d0d",
   "metadata": {},
   "outputs": [],
   "source": []
  },
  {
   "cell_type": "code",
   "execution_count": null,
   "id": "b5c35ce3-e99f-45aa-a435-424ec1eb8882",
   "metadata": {},
   "outputs": [],
   "source": []
  },
  {
   "cell_type": "code",
   "execution_count": null,
   "id": "ce67745f-c6be-417c-b015-c407b2d4e130",
   "metadata": {},
   "outputs": [],
   "source": []
  },
  {
   "cell_type": "code",
   "execution_count": null,
   "id": "ba69c874-700f-4a08-baf6-f5bbb902777a",
   "metadata": {},
   "outputs": [],
   "source": []
  },
  {
   "cell_type": "code",
   "execution_count": null,
   "id": "929dd054-3209-40d0-9cbf-f23423dd3867",
   "metadata": {},
   "outputs": [],
   "source": []
  },
  {
   "cell_type": "code",
   "execution_count": null,
   "id": "8270b066-8762-477f-a1a6-df864a0f0ba5",
   "metadata": {},
   "outputs": [],
   "source": []
  },
  {
   "cell_type": "code",
   "execution_count": null,
   "id": "62b4bf50-ad53-4f81-9672-40061ca04307",
   "metadata": {},
   "outputs": [],
   "source": []
  },
  {
   "cell_type": "code",
   "execution_count": null,
   "id": "485102fd-2899-4934-a304-9d1003bfbcf9",
   "metadata": {},
   "outputs": [],
   "source": []
  },
  {
   "cell_type": "code",
   "execution_count": null,
   "id": "acce062c-099f-4bad-8c29-7251c50c2c72",
   "metadata": {},
   "outputs": [],
   "source": []
  },
  {
   "cell_type": "code",
   "execution_count": null,
   "id": "e76b78e5-a571-4958-9ae3-95d5b6ead2a4",
   "metadata": {},
   "outputs": [],
   "source": []
  },
  {
   "cell_type": "code",
   "execution_count": null,
   "id": "91ea9b28-43aa-4a42-b198-14a3806fb28d",
   "metadata": {},
   "outputs": [],
   "source": []
  },
  {
   "cell_type": "code",
   "execution_count": null,
   "id": "0ad26947-3aaf-464f-b46a-7f8e311c3eb4",
   "metadata": {},
   "outputs": [],
   "source": []
  },
  {
   "cell_type": "code",
   "execution_count": null,
   "id": "5b5f7d94-5ef8-4869-8b65-1292f8ada736",
   "metadata": {},
   "outputs": [],
   "source": []
  }
 ],
 "metadata": {
  "kernelspec": {
   "display_name": "Python 3 (ipykernel)",
   "language": "python",
   "name": "python3"
  },
  "language_info": {
   "codemirror_mode": {
    "name": "ipython",
    "version": 3
   },
   "file_extension": ".py",
   "mimetype": "text/x-python",
   "name": "python",
   "nbconvert_exporter": "python",
   "pygments_lexer": "ipython3",
   "version": "3.12.0"
  }
 },
 "nbformat": 4,
 "nbformat_minor": 5
}
